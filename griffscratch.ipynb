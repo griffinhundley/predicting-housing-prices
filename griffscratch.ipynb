{
 "cells": [
  {
   "cell_type": "markdown",
   "metadata": {},
   "source": [
    "# Housing Prices in King County"
   ]
  },
  {
   "cell_type": "markdown",
   "metadata": {},
   "source": [
    "## Imports"
   ]
  },
  {
   "cell_type": "code",
   "execution_count": 1,
   "metadata": {},
   "outputs": [],
   "source": [
    "import datacleaning as dc\n",
    "import linregvis as lrv\n",
    "import pandas as pd\n",
    "import matplotlib.pyplot as plt\n",
    "import seaborn as sns\n",
    "import numpy as np\n",
    "import statsmodels.api as sm\n",
    "from statsmodels.formula.api import ols\n",
    "from sklearn.model_selection import train_test_split \n",
    "from sklearn.dummy import DummyRegressor\n",
    "from statsmodels.graphics.regressionplots import abline_plot\n",
    "%matplotlib inline\n",
    "sns.set_style('darkgrid')\n",
    "pd.options.display.float_format = \"{:,.2f}\".format\n",
    "import warnings\n",
    "warnings.filterwarnings('ignore')\n",
    "import matplotlib.ticker as mtick"
   ]
  },
  {
   "cell_type": "markdown",
   "metadata": {},
   "source": [
    "## The Data"
   ]
  },
  {
   "cell_type": "markdown",
   "metadata": {},
   "source": [
    "The data being used is publicly available housing data from King County, Washington from 2014-2015.  Prior to any data analysis, the test data is split from the training data to prevent data leakage. The split is 80% training, 20% testing.  The dataset contains ~21,600 rows, with each row representing the sale of a house in King County.  The columns represent features of that house."
   ]
  },
  {
   "cell_type": "code",
   "execution_count": 2,
   "metadata": {},
   "outputs": [],
   "source": [
    "df = dc.test_split(\n",
    "    dc.get_data('data/kc_house_data.csv')\n",
    ")\n",
    "X_train = dc.clean_it(df[0])\n",
    "X_test = dc.clean_it(df[1])\n",
    "y_train = df[2]\n",
    "y_test = df[3]"
   ]
  },
  {
   "cell_type": "markdown",
   "metadata": {},
   "source": [
    "## Exploratory Data Analysis"
   ]
  },
  {
   "cell_type": "code",
   "execution_count": 41,
   "metadata": {},
   "outputs": [
    {
     "data": {
      "text/html": [
       "<div>\n",
       "<style scoped>\n",
       "    .dataframe tbody tr th:only-of-type {\n",
       "        vertical-align: middle;\n",
       "    }\n",
       "\n",
       "    .dataframe tbody tr th {\n",
       "        vertical-align: top;\n",
       "    }\n",
       "\n",
       "    .dataframe thead th {\n",
       "        text-align: right;\n",
       "    }\n",
       "</style>\n",
       "<table border=\"1\" class=\"dataframe\">\n",
       "  <thead>\n",
       "    <tr style=\"text-align: right;\">\n",
       "      <th></th>\n",
       "      <th>id</th>\n",
       "      <th>date</th>\n",
       "      <th>bedrooms</th>\n",
       "      <th>bathrooms</th>\n",
       "      <th>sqft_living</th>\n",
       "      <th>sqft_lot</th>\n",
       "      <th>floors</th>\n",
       "      <th>waterfront</th>\n",
       "      <th>grade</th>\n",
       "      <th>sqft_above</th>\n",
       "      <th>yr_built</th>\n",
       "      <th>yr_renovated</th>\n",
       "      <th>sqft_living15</th>\n",
       "      <th>sqft_lot15</th>\n",
       "      <th>ratio_15</th>\n",
       "      <th>years_old</th>\n",
       "      <th>condition_2</th>\n",
       "      <th>condition_3</th>\n",
       "      <th>condition_4</th>\n",
       "      <th>condition_5</th>\n",
       "    </tr>\n",
       "  </thead>\n",
       "  <tbody>\n",
       "    <tr>\n",
       "      <th>5052</th>\n",
       "      <td>6744700285</td>\n",
       "      <td>2015-03-11</td>\n",
       "      <td>4</td>\n",
       "      <td>3.50</td>\n",
       "      <td>3270</td>\n",
       "      <td>15160</td>\n",
       "      <td>1.00</td>\n",
       "      <td>0.00</td>\n",
       "      <td>8</td>\n",
       "      <td>1660</td>\n",
       "      <td>1997</td>\n",
       "      <td>nan</td>\n",
       "      <td>2790</td>\n",
       "      <td>15160</td>\n",
       "      <td>1.17</td>\n",
       "      <td>23</td>\n",
       "      <td>0</td>\n",
       "      <td>1</td>\n",
       "      <td>0</td>\n",
       "      <td>0</td>\n",
       "    </tr>\n",
       "    <tr>\n",
       "      <th>8658</th>\n",
       "      <td>3630010040</td>\n",
       "      <td>2014-05-23</td>\n",
       "      <td>3</td>\n",
       "      <td>2.00</td>\n",
       "      <td>1540</td>\n",
       "      <td>1827</td>\n",
       "      <td>2.00</td>\n",
       "      <td>0.00</td>\n",
       "      <td>8</td>\n",
       "      <td>1540</td>\n",
       "      <td>2005</td>\n",
       "      <td>0.00</td>\n",
       "      <td>1540</td>\n",
       "      <td>1827</td>\n",
       "      <td>1.00</td>\n",
       "      <td>15</td>\n",
       "      <td>0</td>\n",
       "      <td>1</td>\n",
       "      <td>0</td>\n",
       "      <td>0</td>\n",
       "    </tr>\n",
       "    <tr>\n",
       "      <th>16841</th>\n",
       "      <td>2881700231</td>\n",
       "      <td>2015-04-22</td>\n",
       "      <td>3</td>\n",
       "      <td>1.75</td>\n",
       "      <td>1440</td>\n",
       "      <td>11364</td>\n",
       "      <td>1.00</td>\n",
       "      <td>0.00</td>\n",
       "      <td>7</td>\n",
       "      <td>1440</td>\n",
       "      <td>1985</td>\n",
       "      <td>0.00</td>\n",
       "      <td>1950</td>\n",
       "      <td>9390</td>\n",
       "      <td>0.74</td>\n",
       "      <td>35</td>\n",
       "      <td>0</td>\n",
       "      <td>1</td>\n",
       "      <td>0</td>\n",
       "      <td>0</td>\n",
       "    </tr>\n",
       "    <tr>\n",
       "      <th>9439</th>\n",
       "      <td>2312400230</td>\n",
       "      <td>2014-09-24</td>\n",
       "      <td>3</td>\n",
       "      <td>2.25</td>\n",
       "      <td>1810</td>\n",
       "      <td>12000</td>\n",
       "      <td>2.00</td>\n",
       "      <td>0.00</td>\n",
       "      <td>7</td>\n",
       "      <td>1810</td>\n",
       "      <td>1992</td>\n",
       "      <td>0.00</td>\n",
       "      <td>1720</td>\n",
       "      <td>9916</td>\n",
       "      <td>1.05</td>\n",
       "      <td>28</td>\n",
       "      <td>0</td>\n",
       "      <td>1</td>\n",
       "      <td>0</td>\n",
       "      <td>0</td>\n",
       "    </tr>\n",
       "    <tr>\n",
       "      <th>21301</th>\n",
       "      <td>1732800199</td>\n",
       "      <td>2015-05-11</td>\n",
       "      <td>2</td>\n",
       "      <td>2.50</td>\n",
       "      <td>1680</td>\n",
       "      <td>977</td>\n",
       "      <td>3.00</td>\n",
       "      <td>0.00</td>\n",
       "      <td>9</td>\n",
       "      <td>1680</td>\n",
       "      <td>2009</td>\n",
       "      <td>0.00</td>\n",
       "      <td>1680</td>\n",
       "      <td>977</td>\n",
       "      <td>1.00</td>\n",
       "      <td>11</td>\n",
       "      <td>0</td>\n",
       "      <td>1</td>\n",
       "      <td>0</td>\n",
       "      <td>0</td>\n",
       "    </tr>\n",
       "  </tbody>\n",
       "</table>\n",
       "</div>"
      ],
      "text/plain": [
       "               id       date  bedrooms  bathrooms  sqft_living  sqft_lot  \\\n",
       "5052   6744700285 2015-03-11         4       3.50         3270     15160   \n",
       "8658   3630010040 2014-05-23         3       2.00         1540      1827   \n",
       "16841  2881700231 2015-04-22         3       1.75         1440     11364   \n",
       "9439   2312400230 2014-09-24         3       2.25         1810     12000   \n",
       "21301  1732800199 2015-05-11         2       2.50         1680       977   \n",
       "\n",
       "       floors  waterfront  grade  sqft_above  yr_built  yr_renovated  \\\n",
       "5052     1.00        0.00      8        1660      1997           nan   \n",
       "8658     2.00        0.00      8        1540      2005          0.00   \n",
       "16841    1.00        0.00      7        1440      1985          0.00   \n",
       "9439     2.00        0.00      7        1810      1992          0.00   \n",
       "21301    3.00        0.00      9        1680      2009          0.00   \n",
       "\n",
       "       sqft_living15  sqft_lot15  ratio_15  years_old  condition_2  \\\n",
       "5052            2790       15160      1.17         23            0   \n",
       "8658            1540        1827      1.00         15            0   \n",
       "16841           1950        9390      0.74         35            0   \n",
       "9439            1720        9916      1.05         28            0   \n",
       "21301           1680         977      1.00         11            0   \n",
       "\n",
       "       condition_3  condition_4  condition_5  \n",
       "5052             1            0            0  \n",
       "8658             1            0            0  \n",
       "16841            1            0            0  \n",
       "9439             1            0            0  \n",
       "21301            1            0            0  "
      ]
     },
     "execution_count": 41,
     "metadata": {},
     "output_type": "execute_result"
    }
   ],
   "source": [
    "X_train.head()"
   ]
  },
  {
   "cell_type": "code",
   "execution_count": 43,
   "metadata": {},
   "outputs": [
    {
     "data": {
      "text/html": [
       "<div>\n",
       "<style scoped>\n",
       "    .dataframe tbody tr th:only-of-type {\n",
       "        vertical-align: middle;\n",
       "    }\n",
       "\n",
       "    .dataframe tbody tr th {\n",
       "        vertical-align: top;\n",
       "    }\n",
       "\n",
       "    .dataframe thead th {\n",
       "        text-align: right;\n",
       "    }\n",
       "</style>\n",
       "<table border=\"1\" class=\"dataframe\">\n",
       "  <thead>\n",
       "    <tr style=\"text-align: right;\">\n",
       "      <th></th>\n",
       "      <th>id</th>\n",
       "      <th>bedrooms</th>\n",
       "      <th>bathrooms</th>\n",
       "      <th>sqft_living</th>\n",
       "      <th>sqft_lot</th>\n",
       "      <th>floors</th>\n",
       "      <th>waterfront</th>\n",
       "      <th>grade</th>\n",
       "      <th>sqft_above</th>\n",
       "      <th>yr_built</th>\n",
       "      <th>yr_renovated</th>\n",
       "      <th>sqft_living15</th>\n",
       "      <th>sqft_lot15</th>\n",
       "      <th>ratio_15</th>\n",
       "      <th>years_old</th>\n",
       "      <th>condition_2</th>\n",
       "      <th>condition_3</th>\n",
       "      <th>condition_4</th>\n",
       "      <th>condition_5</th>\n",
       "    </tr>\n",
       "  </thead>\n",
       "  <tbody>\n",
       "    <tr>\n",
       "      <th>count</th>\n",
       "      <td>17,277.00</td>\n",
       "      <td>17,277.00</td>\n",
       "      <td>17,277.00</td>\n",
       "      <td>17,277.00</td>\n",
       "      <td>17,277.00</td>\n",
       "      <td>17,277.00</td>\n",
       "      <td>17,277.00</td>\n",
       "      <td>17,277.00</td>\n",
       "      <td>17,277.00</td>\n",
       "      <td>17,277.00</td>\n",
       "      <td>14,197.00</td>\n",
       "      <td>17,277.00</td>\n",
       "      <td>17,277.00</td>\n",
       "      <td>17,277.00</td>\n",
       "      <td>17,277.00</td>\n",
       "      <td>17,277.00</td>\n",
       "      <td>17,277.00</td>\n",
       "      <td>17,277.00</td>\n",
       "      <td>17,277.00</td>\n",
       "    </tr>\n",
       "    <tr>\n",
       "      <th>mean</th>\n",
       "      <td>4,576,436,161.86</td>\n",
       "      <td>3.37</td>\n",
       "      <td>2.12</td>\n",
       "      <td>2,085.54</td>\n",
       "      <td>15,233.44</td>\n",
       "      <td>1.49</td>\n",
       "      <td>0.01</td>\n",
       "      <td>7.66</td>\n",
       "      <td>1,793.74</td>\n",
       "      <td>1,970.91</td>\n",
       "      <td>84.91</td>\n",
       "      <td>1,988.33</td>\n",
       "      <td>12,957.74</td>\n",
       "      <td>1.06</td>\n",
       "      <td>49.09</td>\n",
       "      <td>0.01</td>\n",
       "      <td>0.65</td>\n",
       "      <td>0.26</td>\n",
       "      <td>0.08</td>\n",
       "    </tr>\n",
       "    <tr>\n",
       "      <th>std</th>\n",
       "      <td>2,879,359,277.94</td>\n",
       "      <td>0.90</td>\n",
       "      <td>0.77</td>\n",
       "      <td>924.04</td>\n",
       "      <td>41,780.09</td>\n",
       "      <td>0.54</td>\n",
       "      <td>0.08</td>\n",
       "      <td>1.18</td>\n",
       "      <td>834.27</td>\n",
       "      <td>29.45</td>\n",
       "      <td>402.83</td>\n",
       "      <td>690.02</td>\n",
       "      <td>28,393.80</td>\n",
       "      <td>0.32</td>\n",
       "      <td>29.45</td>\n",
       "      <td>0.09</td>\n",
       "      <td>0.48</td>\n",
       "      <td>0.44</td>\n",
       "      <td>0.27</td>\n",
       "    </tr>\n",
       "    <tr>\n",
       "      <th>min</th>\n",
       "      <td>1,000,102.00</td>\n",
       "      <td>1.00</td>\n",
       "      <td>0.50</td>\n",
       "      <td>370.00</td>\n",
       "      <td>520.00</td>\n",
       "      <td>1.00</td>\n",
       "      <td>0.00</td>\n",
       "      <td>3.00</td>\n",
       "      <td>370.00</td>\n",
       "      <td>1,900.00</td>\n",
       "      <td>0.00</td>\n",
       "      <td>399.00</td>\n",
       "      <td>651.00</td>\n",
       "      <td>0.27</td>\n",
       "      <td>5.00</td>\n",
       "      <td>0.00</td>\n",
       "      <td>0.00</td>\n",
       "      <td>0.00</td>\n",
       "      <td>0.00</td>\n",
       "    </tr>\n",
       "    <tr>\n",
       "      <th>25%</th>\n",
       "      <td>2,115,510,330.00</td>\n",
       "      <td>3.00</td>\n",
       "      <td>1.75</td>\n",
       "      <td>1,430.00</td>\n",
       "      <td>5,050.00</td>\n",
       "      <td>1.00</td>\n",
       "      <td>0.00</td>\n",
       "      <td>7.00</td>\n",
       "      <td>1,200.00</td>\n",
       "      <td>1,951.00</td>\n",
       "      <td>0.00</td>\n",
       "      <td>1,480.00</td>\n",
       "      <td>5,100.00</td>\n",
       "      <td>0.88</td>\n",
       "      <td>23.00</td>\n",
       "      <td>0.00</td>\n",
       "      <td>0.00</td>\n",
       "      <td>0.00</td>\n",
       "      <td>0.00</td>\n",
       "    </tr>\n",
       "    <tr>\n",
       "      <th>50%</th>\n",
       "      <td>3,904,902,630.00</td>\n",
       "      <td>3.00</td>\n",
       "      <td>2.25</td>\n",
       "      <td>1,920.00</td>\n",
       "      <td>7,610.00</td>\n",
       "      <td>1.50</td>\n",
       "      <td>0.00</td>\n",
       "      <td>7.00</td>\n",
       "      <td>1,564.00</td>\n",
       "      <td>1,975.00</td>\n",
       "      <td>0.00</td>\n",
       "      <td>1,840.00</td>\n",
       "      <td>7,620.00</td>\n",
       "      <td>1.00</td>\n",
       "      <td>45.00</td>\n",
       "      <td>0.00</td>\n",
       "      <td>1.00</td>\n",
       "      <td>0.00</td>\n",
       "      <td>0.00</td>\n",
       "    </tr>\n",
       "    <tr>\n",
       "      <th>75%</th>\n",
       "      <td>7,308,900,445.00</td>\n",
       "      <td>4.00</td>\n",
       "      <td>2.50</td>\n",
       "      <td>2,560.00</td>\n",
       "      <td>10,688.00</td>\n",
       "      <td>2.00</td>\n",
       "      <td>0.00</td>\n",
       "      <td>8.00</td>\n",
       "      <td>2,220.00</td>\n",
       "      <td>1,997.00</td>\n",
       "      <td>0.00</td>\n",
       "      <td>2,370.00</td>\n",
       "      <td>10,080.00</td>\n",
       "      <td>1.16</td>\n",
       "      <td>69.00</td>\n",
       "      <td>0.00</td>\n",
       "      <td>1.00</td>\n",
       "      <td>1.00</td>\n",
       "      <td>0.00</td>\n",
       "    </tr>\n",
       "    <tr>\n",
       "      <th>max</th>\n",
       "      <td>9,900,000,190.00</td>\n",
       "      <td>11.00</td>\n",
       "      <td>8.00</td>\n",
       "      <td>13,540.00</td>\n",
       "      <td>1,651,359.00</td>\n",
       "      <td>3.50</td>\n",
       "      <td>1.00</td>\n",
       "      <td>13.00</td>\n",
       "      <td>9,410.00</td>\n",
       "      <td>2,015.00</td>\n",
       "      <td>2,015.00</td>\n",
       "      <td>6,210.00</td>\n",
       "      <td>871,200.00</td>\n",
       "      <td>6.00</td>\n",
       "      <td>120.00</td>\n",
       "      <td>1.00</td>\n",
       "      <td>1.00</td>\n",
       "      <td>1.00</td>\n",
       "      <td>1.00</td>\n",
       "    </tr>\n",
       "  </tbody>\n",
       "</table>\n",
       "</div>"
      ],
      "text/plain": [
       "                    id  bedrooms  bathrooms  sqft_living     sqft_lot  \\\n",
       "count        17,277.00 17,277.00  17,277.00    17,277.00    17,277.00   \n",
       "mean  4,576,436,161.86      3.37       2.12     2,085.54    15,233.44   \n",
       "std   2,879,359,277.94      0.90       0.77       924.04    41,780.09   \n",
       "min       1,000,102.00      1.00       0.50       370.00       520.00   \n",
       "25%   2,115,510,330.00      3.00       1.75     1,430.00     5,050.00   \n",
       "50%   3,904,902,630.00      3.00       2.25     1,920.00     7,610.00   \n",
       "75%   7,308,900,445.00      4.00       2.50     2,560.00    10,688.00   \n",
       "max   9,900,000,190.00     11.00       8.00    13,540.00 1,651,359.00   \n",
       "\n",
       "         floors  waterfront     grade  sqft_above  yr_built  yr_renovated  \\\n",
       "count 17,277.00   17,277.00 17,277.00   17,277.00 17,277.00     14,197.00   \n",
       "mean       1.49        0.01      7.66    1,793.74  1,970.91         84.91   \n",
       "std        0.54        0.08      1.18      834.27     29.45        402.83   \n",
       "min        1.00        0.00      3.00      370.00  1,900.00          0.00   \n",
       "25%        1.00        0.00      7.00    1,200.00  1,951.00          0.00   \n",
       "50%        1.50        0.00      7.00    1,564.00  1,975.00          0.00   \n",
       "75%        2.00        0.00      8.00    2,220.00  1,997.00          0.00   \n",
       "max        3.50        1.00     13.00    9,410.00  2,015.00      2,015.00   \n",
       "\n",
       "       sqft_living15  sqft_lot15  ratio_15  years_old  condition_2  \\\n",
       "count      17,277.00   17,277.00 17,277.00  17,277.00    17,277.00   \n",
       "mean        1,988.33   12,957.74      1.06      49.09         0.01   \n",
       "std           690.02   28,393.80      0.32      29.45         0.09   \n",
       "min           399.00      651.00      0.27       5.00         0.00   \n",
       "25%         1,480.00    5,100.00      0.88      23.00         0.00   \n",
       "50%         1,840.00    7,620.00      1.00      45.00         0.00   \n",
       "75%         2,370.00   10,080.00      1.16      69.00         0.00   \n",
       "max         6,210.00  871,200.00      6.00     120.00         1.00   \n",
       "\n",
       "       condition_3  condition_4  condition_5  \n",
       "count    17,277.00    17,277.00    17,277.00  \n",
       "mean          0.65         0.26         0.08  \n",
       "std           0.48         0.44         0.27  \n",
       "min           0.00         0.00         0.00  \n",
       "25%           0.00         0.00         0.00  \n",
       "50%           1.00         0.00         0.00  \n",
       "75%           1.00         1.00         0.00  \n",
       "max           1.00         1.00         1.00  "
      ]
     },
     "execution_count": 43,
     "metadata": {},
     "output_type": "execute_result"
    }
   ],
   "source": [
    "X_train.describe()"
   ]
  },
  {
   "cell_type": "code",
   "execution_count": 36,
   "metadata": {
    "scrolled": false
   },
   "outputs": [
    {
     "data": {
      "image/png": "[encoded data removed]",
      "text/plain": [
       "<Figure size 432x288 with 1 Axes>"
      ]
     },
     "metadata": {
      "needs_background": "light"
     },
     "output_type": "display_data"
    }
   ],
   "source": [
    "df = pd.concat([X_train, y_train], axis = 1)\n",
    "bedrooms_grouped = df.groupby(df['bedrooms'])['sqft_living'].mean()\n",
    "bedrooms_grouped.index\n",
    "sns.barplot(x = bedrooms_grouped.index, y = bedrooms_grouped.values, color = 'b', alpha = .5);"
   ]
  },
  {
   "cell_type": "code",
   "execution_count": 39,
   "metadata": {},
   "outputs": [
    {
     "data": {
      "image/png": "[encoded data removed]",
      "text/plain": [
       "<Figure size 432x288 with 1 Axes>"
      ]
     },
     "metadata": {
      "needs_background": "light"
     },
     "output_type": "display_data"
    }
   ],
   "source": [
    "df = pd.concat([X_train, y_train], axis = 1)\n",
    "g_grouped = df.groupby(df['grade'])['price'].median()\n",
    "g_grouped\n",
    "sns.barplot(x = g_grouped.index, y = g_grouped.values, color = 'b', alpha = .5);"
   ]
  },
  {
   "cell_type": "code",
   "execution_count": 45,
   "metadata": {},
   "outputs": [
    {
     "data": {
      "image/png": "[encoded data removed]",
      "text/plain": [
       "<Figure size 432x288 with 1 Axes>"
      ]
     },
     "metadata": {
      "needs_background": "light"
     },
     "output_type": "display_data"
    }
   ],
   "source": [
    "sns.distplot(df.grade, bins = 10, kde = False);"
   ]
  },
  {
   "cell_type": "markdown",
   "metadata": {},
   "source": [
    "## Baseline Model"
   ]
  },
  {
   "cell_type": "code",
   "execution_count": 46,
   "metadata": {},
   "outputs": [
    {
     "data": {
      "text/plain": [
       "0.0"
      ]
     },
     "execution_count": 46,
     "metadata": {},
     "output_type": "execute_result"
    }
   ],
   "source": [
    "dummy = DummyRegressor()\n",
    "dummy.fit(X_train, y_train)\n",
    "dummy.score(X_train, y_train)"
   ]
  },
  {
   "cell_type": "code",
   "execution_count": 47,
   "metadata": {},
   "outputs": [
    {
     "data": {
      "text/plain": [
       "372015.8723643869"
      ]
     },
     "execution_count": 47,
     "metadata": {},
     "output_type": "execute_result"
    }
   ],
   "source": [
    "y_pred = dummy.predict(X_train)\n",
    "from sklearn.metrics import mean_squared_error\n",
    "dummy_rmse = np.sqrt(mean_squared_error(y_train, y_pred))\n",
    "dummy_rmse"
   ]
  },
  {
   "cell_type": "markdown",
   "metadata": {},
   "source": [
    "## Model #1"
   ]
  },
  {
   "cell_type": "code",
   "execution_count": 8,
   "metadata": {
    "scrolled": true
   },
   "outputs": [
    {
     "data": {
      "text/html": [
       "<table class=\"simpletable\">\n",
       "<caption>OLS Regression Results</caption>\n",
       "<tr>\n",
       "  <th>Dep. Variable:</th>          <td>price</td>      <th>  R-squared:         </th>  <td>   0.489</td>  \n",
       "</tr>\n",
       "<tr>\n",
       "  <th>Model:</th>                   <td>OLS</td>       <th>  Adj. R-squared:    </th>  <td>   0.489</td>  \n",
       "</tr>\n",
       "<tr>\n",
       "  <th>Method:</th>             <td>Least Squares</td>  <th>  F-statistic:       </th>  <td>1.655e+04</td> \n",
       "</tr>\n",
       "<tr>\n",
       "  <th>Date:</th>             <td>Tue, 20 Oct 2020</td> <th>  Prob (F-statistic):</th>   <td>  0.00</td>   \n",
       "</tr>\n",
       "<tr>\n",
       "  <th>Time:</th>                 <td>10:30:59</td>     <th>  Log-Likelihood:    </th> <td>-2.4032e+05</td>\n",
       "</tr>\n",
       "<tr>\n",
       "  <th>No. Observations:</th>      <td> 17277</td>      <th>  AIC:               </th>  <td>4.806e+05</td> \n",
       "</tr>\n",
       "<tr>\n",
       "  <th>Df Residuals:</th>          <td> 17275</td>      <th>  BIC:               </th>  <td>4.807e+05</td> \n",
       "</tr>\n",
       "<tr>\n",
       "  <th>Df Model:</th>              <td>     1</td>      <th>                     </th>      <td> </td>     \n",
       "</tr>\n",
       "<tr>\n",
       "  <th>Covariance Type:</th>      <td>nonrobust</td>    <th>                     </th>      <td> </td>     \n",
       "</tr>\n",
       "</table>\n",
       "<table class=\"simpletable\">\n",
       "<tr>\n",
       "       <td></td>          <th>coef</th>     <th>std err</th>      <th>t</th>      <th>P>|t|</th>  <th>[0.025</th>    <th>0.975]</th>  \n",
       "</tr>\n",
       "<tr>\n",
       "  <th>Intercept</th>   <td> -4.57e+04</td> <td> 4993.714</td> <td>   -9.152</td> <td> 0.000</td> <td>-5.55e+04</td> <td>-3.59e+04</td>\n",
       "</tr>\n",
       "<tr>\n",
       "  <th>sqft_living</th> <td>  281.6056</td> <td>    2.189</td> <td>  128.634</td> <td> 0.000</td> <td>  277.315</td> <td>  285.897</td>\n",
       "</tr>\n",
       "</table>\n",
       "<table class=\"simpletable\">\n",
       "<tr>\n",
       "  <th>Omnibus:</th>       <td>12287.594</td> <th>  Durbin-Watson:     </th>  <td>   1.969</td> \n",
       "</tr>\n",
       "<tr>\n",
       "  <th>Prob(Omnibus):</th>  <td> 0.000</td>   <th>  Jarque-Bera (JB):  </th> <td>502138.509</td>\n",
       "</tr>\n",
       "<tr>\n",
       "  <th>Skew:</th>           <td> 2.943</td>   <th>  Prob(JB):          </th>  <td>    0.00</td> \n",
       "</tr>\n",
       "<tr>\n",
       "  <th>Kurtosis:</th>       <td>28.747</td>   <th>  Cond. No.          </th>  <td>5.63e+03</td> \n",
       "</tr>\n",
       "</table><br/><br/>Warnings:<br/>[1] Standard Errors assume that the covariance matrix of the errors is correctly specified.<br/>[2] The condition number is large, 5.63e+03. This might indicate that there are<br/>strong multicollinearity or other numerical problems."
      ],
      "text/plain": [
       "<class 'statsmodels.iolib.summary.Summary'>\n",
       "\"\"\"\n",
       "                            OLS Regression Results                            \n",
       "==============================================================================\n",
       "Dep. Variable:                  price   R-squared:                       0.489\n",
       "Model:                            OLS   Adj. R-squared:                  0.489\n",
       "Method:                 Least Squares   F-statistic:                 1.655e+04\n",
       "Date:                Tue, 20 Oct 2020   Prob (F-statistic):               0.00\n",
       "Time:                        10:30:59   Log-Likelihood:            -2.4032e+05\n",
       "No. Observations:               17277   AIC:                         4.806e+05\n",
       "Df Residuals:                   17275   BIC:                         4.807e+05\n",
       "Df Model:                           1                                         \n",
       "Covariance Type:            nonrobust                                         \n",
       "===============================================================================\n",
       "                  coef    std err          t      P>|t|      [0.025      0.975]\n",
       "-------------------------------------------------------------------------------\n",
       "Intercept    -4.57e+04   4993.714     -9.152      0.000   -5.55e+04   -3.59e+04\n",
       "sqft_living   281.6056      2.189    128.634      0.000     277.315     285.897\n",
       "==============================================================================\n",
       "Omnibus:                    12287.594   Durbin-Watson:                   1.969\n",
       "Prob(Omnibus):                  0.000   Jarque-Bera (JB):           502138.509\n",
       "Skew:                           2.943   Prob(JB):                         0.00\n",
       "Kurtosis:                      28.747   Cond. No.                     5.63e+03\n",
       "==============================================================================\n",
       "\n",
       "Warnings:\n",
       "[1] Standard Errors assume that the covariance matrix of the errors is correctly specified.\n",
       "[2] The condition number is large, 5.63e+03. This might indicate that there are\n",
       "strong multicollinearity or other numerical problems.\n",
       "\"\"\""
      ]
     },
     "execution_count": 8,
     "metadata": {},
     "output_type": "execute_result"
    }
   ],
   "source": [
    "formula = \"price ~ sqft_living\"\n",
    "model_1 = lrv.run_lr(formula, X_train, y_train)\n",
    "model_1.summary()"
   ]
  },
  {
   "cell_type": "markdown",
   "metadata": {},
   "source": [
    "## Visualization"
   ]
  },
  {
   "cell_type": "code",
   "execution_count": 13,
   "metadata": {
    "scrolled": true
   },
   "outputs": [
    {
     "data": {
      "image/png": "[encoded data removed]",
      "text/plain": [
       "<Figure size 1008x576 with 1 Axes>"
      ]
     },
     "metadata": {
      "needs_background": "light"
     },
     "output_type": "display_data"
    }
   ],
   "source": [
    "fig, ax = plt.subplots(figsize = (14,8))\n",
    "ax = sns.scatterplot(X_train.sqft_living, y_train)\n",
    "ax.set_xlabel('Square Foot Living Space (m2)', fontsize = 14)\n",
    "ax.set_ylabel('Price', fontsize = 14)\n",
    "ax.set_title('Effect of living space on Housing Price', fontsize = 24)\n",
    "ax.tick_params(labelsize = 14)\n",
    "lrv.dollar_ticks(ax)\n",
    "abline_plot(model_results=model_1, ax = ax);\n",
    "# fig.savefig('./images/filename', bbox_inches='tight')"
   ]
  },
  {
   "cell_type": "markdown",
   "metadata": {},
   "source": [
    "## Model #2"
   ]
  },
  {
   "cell_type": "code",
   "execution_count": null,
   "metadata": {
    "scrolled": false
   },
   "outputs": [],
   "source": [
    "formula = \"price ~ sqft_living + condition_2 + condition_3 + condition_4 + condition_5\"\n",
    "model_2 = lrv.run_lr(formula, X_train, y_train)\n",
    "model_2.summary()"
   ]
  },
  {
   "cell_type": "markdown",
   "metadata": {},
   "source": [
    "## Model #3"
   ]
  },
  {
   "cell_type": "code",
   "execution_count": 25,
   "metadata": {
    "scrolled": true
   },
   "outputs": [
    {
     "data": {
      "text/html": [
       "<table class=\"simpletable\">\n",
       "<caption>OLS Regression Results</caption>\n",
       "<tr>\n",
       "  <th>Dep. Variable:</th>          <td>price</td>      <th>  R-squared:         </th>  <td>   0.636</td>  \n",
       "</tr>\n",
       "<tr>\n",
       "  <th>Model:</th>                   <td>OLS</td>       <th>  Adj. R-squared:    </th>  <td>   0.636</td>  \n",
       "</tr>\n",
       "<tr>\n",
       "  <th>Method:</th>             <td>Least Squares</td>  <th>  F-statistic:       </th>  <td>   6029.</td>  \n",
       "</tr>\n",
       "<tr>\n",
       "  <th>Date:</th>             <td>Tue, 20 Oct 2020</td> <th>  Prob (F-statistic):</th>   <td>  0.00</td>   \n",
       "</tr>\n",
       "<tr>\n",
       "  <th>Time:</th>                 <td>10:43:00</td>     <th>  Log-Likelihood:    </th> <td>-2.3740e+05</td>\n",
       "</tr>\n",
       "<tr>\n",
       "  <th>No. Observations:</th>      <td> 17277</td>      <th>  AIC:               </th>  <td>4.748e+05</td> \n",
       "</tr>\n",
       "<tr>\n",
       "  <th>Df Residuals:</th>          <td> 17271</td>      <th>  BIC:               </th>  <td>4.749e+05</td> \n",
       "</tr>\n",
       "<tr>\n",
       "  <th>Df Model:</th>              <td>     5</td>      <th>                     </th>      <td> </td>     \n",
       "</tr>\n",
       "<tr>\n",
       "  <th>Covariance Type:</th>      <td>nonrobust</td>    <th>                     </th>      <td> </td>     \n",
       "</tr>\n",
       "</table>\n",
       "<table class=\"simpletable\">\n",
       "<tr>\n",
       "       <td></td>          <th>coef</th>     <th>std err</th>      <th>t</th>      <th>P>|t|</th>  <th>[0.025</th>    <th>0.975]</th>  \n",
       "</tr>\n",
       "<tr>\n",
       "  <th>Intercept</th>   <td>-9.764e+05</td> <td> 1.79e+04</td> <td>  -54.461</td> <td> 0.000</td> <td>-1.01e+06</td> <td>-9.41e+05</td>\n",
       "</tr>\n",
       "<tr>\n",
       "  <th>sqft_living</th> <td>  199.9340</td> <td>    3.476</td> <td>   57.525</td> <td> 0.000</td> <td>  193.121</td> <td>  206.747</td>\n",
       "</tr>\n",
       "<tr>\n",
       "  <th>grade</th>       <td> 1.334e+05</td> <td> 2467.811</td> <td>   54.063</td> <td> 0.000</td> <td> 1.29e+05</td> <td> 1.38e+05</td>\n",
       "</tr>\n",
       "<tr>\n",
       "  <th>waterfront</th>  <td> 8.105e+05</td> <td> 2.16e+04</td> <td>   37.590</td> <td> 0.000</td> <td> 7.68e+05</td> <td> 8.53e+05</td>\n",
       "</tr>\n",
       "<tr>\n",
       "  <th>years_old</th>   <td> 3591.0536</td> <td>   65.162</td> <td>   55.109</td> <td> 0.000</td> <td> 3463.329</td> <td> 3718.778</td>\n",
       "</tr>\n",
       "<tr>\n",
       "  <th>ratio_15</th>    <td>-9.693e+04</td> <td> 6687.463</td> <td>  -14.495</td> <td> 0.000</td> <td> -1.1e+05</td> <td>-8.38e+04</td>\n",
       "</tr>\n",
       "</table>\n",
       "<table class=\"simpletable\">\n",
       "<tr>\n",
       "  <th>Omnibus:</th>       <td>13352.225</td> <th>  Durbin-Watson:     </th>  <td>   1.961</td>  \n",
       "</tr>\n",
       "<tr>\n",
       "  <th>Prob(Omnibus):</th>  <td> 0.000</td>   <th>  Jarque-Bera (JB):  </th> <td>1010499.346</td>\n",
       "</tr>\n",
       "<tr>\n",
       "  <th>Skew:</th>           <td> 3.129</td>   <th>  Prob(JB):          </th>  <td>    0.00</td>  \n",
       "</tr>\n",
       "<tr>\n",
       "  <th>Kurtosis:</th>       <td>39.940</td>   <th>  Cond. No.          </th>  <td>2.89e+04</td>  \n",
       "</tr>\n",
       "</table><br/><br/>Warnings:<br/>[1] Standard Errors assume that the covariance matrix of the errors is correctly specified.<br/>[2] The condition number is large, 2.89e+04. This might indicate that there are<br/>strong multicollinearity or other numerical problems."
      ],
      "text/plain": [
       "<class 'statsmodels.iolib.summary.Summary'>\n",
       "\"\"\"\n",
       "                            OLS Regression Results                            \n",
       "==============================================================================\n",
       "Dep. Variable:                  price   R-squared:                       0.636\n",
       "Model:                            OLS   Adj. R-squared:                  0.636\n",
       "Method:                 Least Squares   F-statistic:                     6029.\n",
       "Date:                Tue, 20 Oct 2020   Prob (F-statistic):               0.00\n",
       "Time:                        10:43:00   Log-Likelihood:            -2.3740e+05\n",
       "No. Observations:               17277   AIC:                         4.748e+05\n",
       "Df Residuals:                   17271   BIC:                         4.749e+05\n",
       "Df Model:                           5                                         \n",
       "Covariance Type:            nonrobust                                         \n",
       "===============================================================================\n",
       "                  coef    std err          t      P>|t|      [0.025      0.975]\n",
       "-------------------------------------------------------------------------------\n",
       "Intercept   -9.764e+05   1.79e+04    -54.461      0.000   -1.01e+06   -9.41e+05\n",
       "sqft_living   199.9340      3.476     57.525      0.000     193.121     206.747\n",
       "grade        1.334e+05   2467.811     54.063      0.000    1.29e+05    1.38e+05\n",
       "waterfront   8.105e+05   2.16e+04     37.590      0.000    7.68e+05    8.53e+05\n",
       "years_old    3591.0536     65.162     55.109      0.000    3463.329    3718.778\n",
       "ratio_15    -9.693e+04   6687.463    -14.495      0.000    -1.1e+05   -8.38e+04\n",
       "==============================================================================\n",
       "Omnibus:                    13352.225   Durbin-Watson:                   1.961\n",
       "Prob(Omnibus):                  0.000   Jarque-Bera (JB):          1010499.346\n",
       "Skew:                           3.129   Prob(JB):                         0.00\n",
       "Kurtosis:                      39.940   Cond. No.                     2.89e+04\n",
       "==============================================================================\n",
       "\n",
       "Warnings:\n",
       "[1] Standard Errors assume that the covariance matrix of the errors is correctly specified.\n",
       "[2] The condition number is large, 2.89e+04. This might indicate that there are\n",
       "strong multicollinearity or other numerical problems.\n",
       "\"\"\""
      ]
     },
     "execution_count": 25,
     "metadata": {},
     "output_type": "execute_result"
    }
   ],
   "source": [
    "formula = \"price ~ sqft_living + grade + waterfront + years_old + ratio_15\"\n",
    "model_3 = lrv.run_lr(formula, X_train, y_train)\n",
    "model_3.summary()"
   ]
  },
  {
   "cell_type": "markdown",
   "metadata": {},
   "source": [
    "## Model #4"
   ]
  },
  {
   "cell_type": "code",
   "execution_count": 26,
   "metadata": {
    "scrolled": true
   },
   "outputs": [
    {
     "data": {
      "text/html": [
       "<table class=\"simpletable\">\n",
       "<caption>OLS Regression Results</caption>\n",
       "<tr>\n",
       "  <th>Dep. Variable:</th>          <td>price</td>      <th>  R-squared:         </th>  <td>   0.594</td>  \n",
       "</tr>\n",
       "<tr>\n",
       "  <th>Model:</th>                   <td>OLS</td>       <th>  Adj. R-squared:    </th>  <td>   0.594</td>  \n",
       "</tr>\n",
       "<tr>\n",
       "  <th>Method:</th>             <td>Least Squares</td>  <th>  F-statistic:       </th>  <td>   5060.</td>  \n",
       "</tr>\n",
       "<tr>\n",
       "  <th>Date:</th>             <td>Tue, 20 Oct 2020</td> <th>  Prob (F-statistic):</th>   <td>  0.00</td>   \n",
       "</tr>\n",
       "<tr>\n",
       "  <th>Time:</th>                 <td>10:44:16</td>     <th>  Log-Likelihood:    </th> <td>-2.3833e+05</td>\n",
       "</tr>\n",
       "<tr>\n",
       "  <th>No. Observations:</th>      <td> 17277</td>      <th>  AIC:               </th>  <td>4.767e+05</td> \n",
       "</tr>\n",
       "<tr>\n",
       "  <th>Df Residuals:</th>          <td> 17271</td>      <th>  BIC:               </th>  <td>4.767e+05</td> \n",
       "</tr>\n",
       "<tr>\n",
       "  <th>Df Model:</th>              <td>     5</td>      <th>                     </th>      <td> </td>     \n",
       "</tr>\n",
       "<tr>\n",
       "  <th>Covariance Type:</th>      <td>nonrobust</td>    <th>                     </th>      <td> </td>     \n",
       "</tr>\n",
       "</table>\n",
       "<table class=\"simpletable\">\n",
       "<tr>\n",
       "       <td></td>         <th>coef</th>     <th>std err</th>      <th>t</th>      <th>P>|t|</th>  <th>[0.025</th>    <th>0.975]</th>  \n",
       "</tr>\n",
       "<tr>\n",
       "  <th>Intercept</th>  <td>-1.512e+06</td> <td> 1.54e+04</td> <td>  -97.937</td> <td> 0.000</td> <td>-1.54e+06</td> <td>-1.48e+06</td>\n",
       "</tr>\n",
       "<tr>\n",
       "  <th>bathrooms</th>  <td> 1.252e+05</td> <td> 3603.198</td> <td>   34.747</td> <td> 0.000</td> <td> 1.18e+05</td> <td> 1.32e+05</td>\n",
       "</tr>\n",
       "<tr>\n",
       "  <th>grade</th>      <td> 1.992e+05</td> <td> 2087.093</td> <td>   95.456</td> <td> 0.000</td> <td> 1.95e+05</td> <td> 2.03e+05</td>\n",
       "</tr>\n",
       "<tr>\n",
       "  <th>waterfront</th> <td> 8.617e+05</td> <td> 2.27e+04</td> <td>   37.924</td> <td> 0.000</td> <td> 8.17e+05</td> <td> 9.06e+05</td>\n",
       "</tr>\n",
       "<tr>\n",
       "  <th>years_old</th>  <td> 4550.2752</td> <td>   73.395</td> <td>   61.997</td> <td> 0.000</td> <td> 4406.414</td> <td> 4694.136</td>\n",
       "</tr>\n",
       "<tr>\n",
       "  <th>ratio_15</th>   <td> 3.194e+04</td> <td> 6355.527</td> <td>    5.026</td> <td> 0.000</td> <td> 1.95e+04</td> <td> 4.44e+04</td>\n",
       "</tr>\n",
       "</table>\n",
       "<table class=\"simpletable\">\n",
       "<tr>\n",
       "  <th>Omnibus:</th>       <td>15119.423</td> <th>  Durbin-Watson:     </th>  <td>   1.960</td>  \n",
       "</tr>\n",
       "<tr>\n",
       "  <th>Prob(Omnibus):</th>  <td> 0.000</td>   <th>  Jarque-Bera (JB):  </th> <td>1649749.027</td>\n",
       "</tr>\n",
       "<tr>\n",
       "  <th>Skew:</th>           <td> 3.714</td>   <th>  Prob(JB):          </th>  <td>    0.00</td>  \n",
       "</tr>\n",
       "<tr>\n",
       "  <th>Kurtosis:</th>       <td>50.292</td>   <th>  Cond. No.          </th>  <td>    729.</td>  \n",
       "</tr>\n",
       "</table><br/><br/>Warnings:<br/>[1] Standard Errors assume that the covariance matrix of the errors is correctly specified."
      ],
      "text/plain": [
       "<class 'statsmodels.iolib.summary.Summary'>\n",
       "\"\"\"\n",
       "                            OLS Regression Results                            \n",
       "==============================================================================\n",
       "Dep. Variable:                  price   R-squared:                       0.594\n",
       "Model:                            OLS   Adj. R-squared:                  0.594\n",
       "Method:                 Least Squares   F-statistic:                     5060.\n",
       "Date:                Tue, 20 Oct 2020   Prob (F-statistic):               0.00\n",
       "Time:                        10:44:16   Log-Likelihood:            -2.3833e+05\n",
       "No. Observations:               17277   AIC:                         4.767e+05\n",
       "Df Residuals:                   17271   BIC:                         4.767e+05\n",
       "Df Model:                           5                                         \n",
       "Covariance Type:            nonrobust                                         \n",
       "==============================================================================\n",
       "                 coef    std err          t      P>|t|      [0.025      0.975]\n",
       "------------------------------------------------------------------------------\n",
       "Intercept  -1.512e+06   1.54e+04    -97.937      0.000   -1.54e+06   -1.48e+06\n",
       "bathrooms   1.252e+05   3603.198     34.747      0.000    1.18e+05    1.32e+05\n",
       "grade       1.992e+05   2087.093     95.456      0.000    1.95e+05    2.03e+05\n",
       "waterfront  8.617e+05   2.27e+04     37.924      0.000    8.17e+05    9.06e+05\n",
       "years_old   4550.2752     73.395     61.997      0.000    4406.414    4694.136\n",
       "ratio_15    3.194e+04   6355.527      5.026      0.000    1.95e+04    4.44e+04\n",
       "==============================================================================\n",
       "Omnibus:                    15119.423   Durbin-Watson:                   1.960\n",
       "Prob(Omnibus):                  0.000   Jarque-Bera (JB):          1649749.027\n",
       "Skew:                           3.714   Prob(JB):                         0.00\n",
       "Kurtosis:                      50.292   Cond. No.                         729.\n",
       "==============================================================================\n",
       "\n",
       "Warnings:\n",
       "[1] Standard Errors assume that the covariance matrix of the errors is correctly specified.\n",
       "\"\"\""
      ]
     },
     "execution_count": 26,
     "metadata": {},
     "output_type": "execute_result"
    }
   ],
   "source": [
    "formula = \"price ~ bathrooms + grade + waterfront + years_old + ratio_15\"\n",
    "model_4 = lrv.run_lr(formula, X_train, y_train)\n",
    "model_4.summary()"
   ]
  },
  {
   "cell_type": "code",
   "execution_count": null,
   "metadata": {},
   "outputs": [],
   "source": []
  }
 ],
 "metadata": {
  "kernelspec": {
   "display_name": "learn-env",
   "language": "python",
   "name": "learn-env"
  },
  "language_info": {
   "codemirror_mode": {
    "name": "ipython",
    "version": 3
   },
   "file_extension": ".py",
   "mimetype": "text/x-python",
   "name": "python",
   "nbconvert_exporter": "python",
   "pygments_lexer": "ipython3",
   "version": "3.6.9"
  }
 },
 "nbformat": 4,
 "nbformat_minor": 4
}
