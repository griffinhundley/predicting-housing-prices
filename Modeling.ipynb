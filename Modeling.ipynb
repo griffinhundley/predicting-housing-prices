{
 "cells": [
  {
   "cell_type": "markdown",
   "metadata": {},
   "source": [
    "# Modeling"
   ]
  },
  {
   "cell_type": "markdown",
   "metadata": {},
   "source": [
    "Importing different packages"
   ]
  },
  {
   "cell_type": "code",
   "execution_count": 2,
   "metadata": {},
   "outputs": [],
   "source": [
    "import pandas as pd\n",
    "import matplotlib.pyplot as plt\n",
    "import seaborn as sns\n",
    "import numpy as np\n",
    "import statsmodels.api as sm\n",
    "from statsmodels.formula.api import ols\n",
    "from sklearn.model_selection import train_test_split \n",
    "from sklearn.dummy import DummyRegressor\n",
    "from statsmodels.graphics.regressionplots import abline_plot\n",
    "\n",
    "%matplotlib inline\n"
   ]
  },
  {
   "cell_type": "markdown",
   "metadata": {},
   "source": [
    "Importing the csv file. Cleaning of file by dropping unneccesary columns, taking care of nan values, and creating new columns.\n",
    "Creating X and y to by taking price out of dataframe and into y."
   ]
  },
  {
   "cell_type": "code",
   "execution_count": 3,
   "metadata": {},
   "outputs": [],
   "source": [
    "df = pd.read_csv('data/kc_house_data.csv')\n",
    "df.date = pd.to_datetime(df.date)\n",
    "df.waterfront = df.waterfront.fillna(value = 0)\n",
    "df = df.drop(columns = ['view','lat', 'long', 'zipcode', 'sqft_basement'])\n",
    "#df.yr_renovated.fillna(value = 0, inplace = True) \n",
    "df['yard'] = df.sqft_lot - df.sqft_living\n",
    "df['ratio_15'] = df.sqft_living/df.sqft_living15\n",
    "df['years_old'] = 2020 - df.yr_built\n",
    "s = pd.get_dummies(df.condition, drop_first = True, prefix = 'condition')\n",
    "df = pd.concat([df, s], axis = 1)\n",
    "df = df.drop(columns = ['condition'])\n",
    "df.head()\n",
    "y = df.price\n",
    "X = df.drop(columns = ['price'])\n"
   ]
  },
  {
   "cell_type": "markdown",
   "metadata": {},
   "source": [
    "Creating a dummy regressor model"
   ]
  },
  {
   "cell_type": "code",
   "execution_count": 4,
   "metadata": {},
   "outputs": [
    {
     "data": {
      "text/plain": [
       "0.0"
      ]
     },
     "execution_count": 4,
     "metadata": {},
     "output_type": "execute_result"
    }
   ],
   "source": [
    "X_train, X_test, y_train, y_test = train_test_split(X, y, test_size = 0.2, random_state = 69)\n",
    "dummy = DummyRegressor()\n",
    "dummy.fit(X_train, y_train)\n",
    "dummy.score(X_train, y_train)\n"
   ]
  },
  {
   "cell_type": "markdown",
   "metadata": {},
   "source": [
    "Checking the RMSE for our dummy model."
   ]
  },
  {
   "cell_type": "code",
   "execution_count": 5,
   "metadata": {},
   "outputs": [
    {
     "data": {
      "text/plain": [
       "372015.8723643869"
      ]
     },
     "execution_count": 5,
     "metadata": {},
     "output_type": "execute_result"
    }
   ],
   "source": [
    "y_pred = dummy.predict(X_train)\n",
    "from sklearn.metrics import mean_squared_error\n",
    "dummy_rmse = np.sqrt(mean_squared_error(y_train, y_pred))\n",
    "dummy_rmse"
   ]
  },
  {
   "cell_type": "markdown",
   "metadata": {},
   "source": [
    "The real model using sqft_living"
   ]
  },
  {
   "cell_type": "code",
   "execution_count": 6,
   "metadata": {},
   "outputs": [
    {
     "data": {
      "text/html": [
       "<table class=\"simpletable\">\n",
       "<caption>OLS Regression Results</caption>\n",
       "<tr>\n",
       "  <th>Dep. Variable:</th>          <td>price</td>      <th>  R-squared:         </th>  <td>   0.489</td>  \n",
       "</tr>\n",
       "<tr>\n",
       "  <th>Model:</th>                   <td>OLS</td>       <th>  Adj. R-squared:    </th>  <td>   0.489</td>  \n",
       "</tr>\n",
       "<tr>\n",
       "  <th>Method:</th>             <td>Least Squares</td>  <th>  F-statistic:       </th>  <td>1.655e+04</td> \n",
       "</tr>\n",
       "<tr>\n",
       "  <th>Date:</th>             <td>Tue, 20 Oct 2020</td> <th>  Prob (F-statistic):</th>   <td>  0.00</td>   \n",
       "</tr>\n",
       "<tr>\n",
       "  <th>Time:</th>                 <td>11:19:04</td>     <th>  Log-Likelihood:    </th> <td>-2.4032e+05</td>\n",
       "</tr>\n",
       "<tr>\n",
       "  <th>No. Observations:</th>      <td> 17277</td>      <th>  AIC:               </th>  <td>4.806e+05</td> \n",
       "</tr>\n",
       "<tr>\n",
       "  <th>Df Residuals:</th>          <td> 17275</td>      <th>  BIC:               </th>  <td>4.807e+05</td> \n",
       "</tr>\n",
       "<tr>\n",
       "  <th>Df Model:</th>              <td>     1</td>      <th>                     </th>      <td> </td>     \n",
       "</tr>\n",
       "<tr>\n",
       "  <th>Covariance Type:</th>      <td>nonrobust</td>    <th>                     </th>      <td> </td>     \n",
       "</tr>\n",
       "</table>\n",
       "<table class=\"simpletable\">\n",
       "<tr>\n",
       "       <td></td>          <th>coef</th>     <th>std err</th>      <th>t</th>      <th>P>|t|</th>  <th>[0.025</th>    <th>0.975]</th>  \n",
       "</tr>\n",
       "<tr>\n",
       "  <th>Intercept</th>   <td> -4.57e+04</td> <td> 4993.714</td> <td>   -9.152</td> <td> 0.000</td> <td>-5.55e+04</td> <td>-3.59e+04</td>\n",
       "</tr>\n",
       "<tr>\n",
       "  <th>sqft_living</th> <td>  281.6056</td> <td>    2.189</td> <td>  128.634</td> <td> 0.000</td> <td>  277.315</td> <td>  285.897</td>\n",
       "</tr>\n",
       "</table>\n",
       "<table class=\"simpletable\">\n",
       "<tr>\n",
       "  <th>Omnibus:</th>       <td>12287.594</td> <th>  Durbin-Watson:     </th>  <td>   1.969</td> \n",
       "</tr>\n",
       "<tr>\n",
       "  <th>Prob(Omnibus):</th>  <td> 0.000</td>   <th>  Jarque-Bera (JB):  </th> <td>502138.509</td>\n",
       "</tr>\n",
       "<tr>\n",
       "  <th>Skew:</th>           <td> 2.943</td>   <th>  Prob(JB):          </th>  <td>    0.00</td> \n",
       "</tr>\n",
       "<tr>\n",
       "  <th>Kurtosis:</th>       <td>28.747</td>   <th>  Cond. No.          </th>  <td>5.63e+03</td> \n",
       "</tr>\n",
       "</table><br/><br/>Warnings:<br/>[1] Standard Errors assume that the covariance matrix of the errors is correctly specified.<br/>[2] The condition number is large, 5.63e+03. This might indicate that there are<br/>strong multicollinearity or other numerical problems."
      ],
      "text/plain": [
       "<class 'statsmodels.iolib.summary.Summary'>\n",
       "\"\"\"\n",
       "                            OLS Regression Results                            \n",
       "==============================================================================\n",
       "Dep. Variable:                  price   R-squared:                       0.489\n",
       "Model:                            OLS   Adj. R-squared:                  0.489\n",
       "Method:                 Least Squares   F-statistic:                 1.655e+04\n",
       "Date:                Tue, 20 Oct 2020   Prob (F-statistic):               0.00\n",
       "Time:                        11:19:04   Log-Likelihood:            -2.4032e+05\n",
       "No. Observations:               17277   AIC:                         4.806e+05\n",
       "Df Residuals:                   17275   BIC:                         4.807e+05\n",
       "Df Model:                           1                                         \n",
       "Covariance Type:            nonrobust                                         \n",
       "===============================================================================\n",
       "                  coef    std err          t      P>|t|      [0.025      0.975]\n",
       "-------------------------------------------------------------------------------\n",
       "Intercept    -4.57e+04   4993.714     -9.152      0.000   -5.55e+04   -3.59e+04\n",
       "sqft_living   281.6056      2.189    128.634      0.000     277.315     285.897\n",
       "==============================================================================\n",
       "Omnibus:                    12287.594   Durbin-Watson:                   1.969\n",
       "Prob(Omnibus):                  0.000   Jarque-Bera (JB):           502138.509\n",
       "Skew:                           2.943   Prob(JB):                         0.00\n",
       "Kurtosis:                      28.747   Cond. No.                     5.63e+03\n",
       "==============================================================================\n",
       "\n",
       "Warnings:\n",
       "[1] Standard Errors assume that the covariance matrix of the errors is correctly specified.\n",
       "[2] The condition number is large, 5.63e+03. This might indicate that there are\n",
       "strong multicollinearity or other numerical problems.\n",
       "\"\"\""
      ]
     },
     "execution_count": 6,
     "metadata": {},
     "output_type": "execute_result"
    }
   ],
   "source": [
    "formula = \"price ~ sqft_living\"\n",
    "data_ols = pd.concat([X_train, y_train], axis = 1)\n",
    "\n",
    "model_sqft = ols(formula= formula, data= data_ols).fit()\n",
    "model_sqft.summary()"
   ]
  },
  {
   "cell_type": "code",
   "execution_count": 7,
   "metadata": {},
   "outputs": [
    {
     "data": {
      "text/plain": [
       "265871.8790296068"
      ]
     },
     "execution_count": 7,
     "metadata": {},
     "output_type": "execute_result"
    }
   ],
   "source": [
    "y_pred = model_sqft.predict(X_train)\n",
    "model_sqft_rmse = np.sqrt(mean_squared_error(y_train, y_pred))\n",
    "model_sqft_rmse"
   ]
  },
  {
   "cell_type": "markdown",
   "metadata": {},
   "source": [
    "Graphing price and sqrt_living with our regression line."
   ]
  },
  {
   "cell_type": "code",
   "execution_count": 8,
   "metadata": {},
   "outputs": [
    {
     "data": {
      "image/png": "[encoded data removed]",
      "text/plain": [
       "<Figure size 432x288 with 1 Axes>"
      ]
     },
     "execution_count": 8,
     "metadata": {},
     "output_type": "execute_result"
    },
    {
     "data": {
      "image/png": "[encoded data removed]",
      "text/plain": [
       "<Figure size 432x288 with 1 Axes>"
      ]
     },
     "metadata": {},
     "output_type": "display_data"
    }
   ],
   "source": [
    "sns.set_style('darkgrid')\n",
    "#fig = sm.graphics.plot_regress_exog(data_ols, \"price\")\n",
    "fig, ax = plt.subplots()\n",
    "sns.scatterplot(x = data_ols.sqft_living, y = data_ols.price)\n",
    "abline_plot(model_results=model_sqft, ax=ax)"
   ]
  },
  {
   "cell_type": "markdown",
   "metadata": {},
   "source": [
    "Checking other predictors."
   ]
  },
  {
   "cell_type": "code",
   "execution_count": 9,
   "metadata": {},
   "outputs": [
    {
     "data": {
      "text/html": [
       "<table class=\"simpletable\">\n",
       "<caption>OLS Regression Results</caption>\n",
       "<tr>\n",
       "  <th>Dep. Variable:</th>          <td>price</td>      <th>  R-squared:         </th>  <td>   0.496</td>  \n",
       "</tr>\n",
       "<tr>\n",
       "  <th>Model:</th>                   <td>OLS</td>       <th>  Adj. R-squared:    </th>  <td>   0.496</td>  \n",
       "</tr>\n",
       "<tr>\n",
       "  <th>Method:</th>             <td>Least Squares</td>  <th>  F-statistic:       </th>  <td>   3396.</td>  \n",
       "</tr>\n",
       "<tr>\n",
       "  <th>Date:</th>             <td>Tue, 20 Oct 2020</td> <th>  Prob (F-statistic):</th>   <td>  0.00</td>   \n",
       "</tr>\n",
       "<tr>\n",
       "  <th>Time:</th>                 <td>11:19:09</td>     <th>  Log-Likelihood:    </th> <td>-2.4021e+05</td>\n",
       "</tr>\n",
       "<tr>\n",
       "  <th>No. Observations:</th>      <td> 17277</td>      <th>  AIC:               </th>  <td>4.804e+05</td> \n",
       "</tr>\n",
       "<tr>\n",
       "  <th>Df Residuals:</th>          <td> 17271</td>      <th>  BIC:               </th>  <td>4.805e+05</td> \n",
       "</tr>\n",
       "<tr>\n",
       "  <th>Df Model:</th>              <td>     5</td>      <th>                     </th>      <td> </td>     \n",
       "</tr>\n",
       "<tr>\n",
       "  <th>Covariance Type:</th>      <td>nonrobust</td>    <th>                     </th>      <td> </td>     \n",
       "</tr>\n",
       "</table>\n",
       "<table class=\"simpletable\">\n",
       "<tr>\n",
       "       <td></td>          <th>coef</th>     <th>std err</th>      <th>t</th>      <th>P>|t|</th>  <th>[0.025</th>    <th>0.975]</th>  \n",
       "</tr>\n",
       "<tr>\n",
       "  <th>Intercept</th>   <td>     2e+04</td> <td> 5.77e+04</td> <td>    0.347</td> <td> 0.729</td> <td>-9.31e+04</td> <td> 1.33e+05</td>\n",
       "</tr>\n",
       "<tr>\n",
       "  <th>sqft_living</th> <td>  283.7182</td> <td>    2.192</td> <td>  129.451</td> <td> 0.000</td> <td>  279.422</td> <td>  288.014</td>\n",
       "</tr>\n",
       "<tr>\n",
       "  <th>condition_2</th> <td>-9.774e+04</td> <td> 6.19e+04</td> <td>   -1.578</td> <td> 0.114</td> <td>-2.19e+05</td> <td> 2.36e+04</td>\n",
       "</tr>\n",
       "<tr>\n",
       "  <th>condition_3</th> <td> -8.75e+04</td> <td> 5.78e+04</td> <td>   -1.515</td> <td> 0.130</td> <td>-2.01e+05</td> <td> 2.57e+04</td>\n",
       "</tr>\n",
       "<tr>\n",
       "  <th>condition_4</th> <td>-5.305e+04</td> <td> 5.78e+04</td> <td>   -0.918</td> <td> 0.359</td> <td>-1.66e+05</td> <td> 6.03e+04</td>\n",
       "</tr>\n",
       "<tr>\n",
       "  <th>condition_5</th> <td> 1.868e+04</td> <td> 5.81e+04</td> <td>    0.321</td> <td> 0.748</td> <td>-9.53e+04</td> <td> 1.33e+05</td>\n",
       "</tr>\n",
       "</table>\n",
       "<table class=\"simpletable\">\n",
       "<tr>\n",
       "  <th>Omnibus:</th>       <td>12317.028</td> <th>  Durbin-Watson:     </th>  <td>   1.971</td> \n",
       "</tr>\n",
       "<tr>\n",
       "  <th>Prob(Omnibus):</th>  <td> 0.000</td>   <th>  Jarque-Bera (JB):  </th> <td>513085.522</td>\n",
       "</tr>\n",
       "<tr>\n",
       "  <th>Skew:</th>           <td> 2.947</td>   <th>  Prob(JB):          </th>  <td>    0.00</td> \n",
       "</tr>\n",
       "<tr>\n",
       "  <th>Kurtosis:</th>       <td>29.038</td>   <th>  Cond. No.          </th>  <td>1.47e+05</td> \n",
       "</tr>\n",
       "</table><br/><br/>Warnings:<br/>[1] Standard Errors assume that the covariance matrix of the errors is correctly specified.<br/>[2] The condition number is large, 1.47e+05. This might indicate that there are<br/>strong multicollinearity or other numerical problems."
      ],
      "text/plain": [
       "<class 'statsmodels.iolib.summary.Summary'>\n",
       "\"\"\"\n",
       "                            OLS Regression Results                            \n",
       "==============================================================================\n",
       "Dep. Variable:                  price   R-squared:                       0.496\n",
       "Model:                            OLS   Adj. R-squared:                  0.496\n",
       "Method:                 Least Squares   F-statistic:                     3396.\n",
       "Date:                Tue, 20 Oct 2020   Prob (F-statistic):               0.00\n",
       "Time:                        11:19:09   Log-Likelihood:            -2.4021e+05\n",
       "No. Observations:               17277   AIC:                         4.804e+05\n",
       "Df Residuals:                   17271   BIC:                         4.805e+05\n",
       "Df Model:                           5                                         \n",
       "Covariance Type:            nonrobust                                         \n",
       "===============================================================================\n",
       "                  coef    std err          t      P>|t|      [0.025      0.975]\n",
       "-------------------------------------------------------------------------------\n",
       "Intercept        2e+04   5.77e+04      0.347      0.729   -9.31e+04    1.33e+05\n",
       "sqft_living   283.7182      2.192    129.451      0.000     279.422     288.014\n",
       "condition_2 -9.774e+04   6.19e+04     -1.578      0.114   -2.19e+05    2.36e+04\n",
       "condition_3  -8.75e+04   5.78e+04     -1.515      0.130   -2.01e+05    2.57e+04\n",
       "condition_4 -5.305e+04   5.78e+04     -0.918      0.359   -1.66e+05    6.03e+04\n",
       "condition_5  1.868e+04   5.81e+04      0.321      0.748   -9.53e+04    1.33e+05\n",
       "==============================================================================\n",
       "Omnibus:                    12317.028   Durbin-Watson:                   1.971\n",
       "Prob(Omnibus):                  0.000   Jarque-Bera (JB):           513085.522\n",
       "Skew:                           2.947   Prob(JB):                         0.00\n",
       "Kurtosis:                      29.038   Cond. No.                     1.47e+05\n",
       "==============================================================================\n",
       "\n",
       "Warnings:\n",
       "[1] Standard Errors assume that the covariance matrix of the errors is correctly specified.\n",
       "[2] The condition number is large, 1.47e+05. This might indicate that there are\n",
       "strong multicollinearity or other numerical problems.\n",
       "\"\"\""
      ]
     },
     "execution_count": 9,
     "metadata": {},
     "output_type": "execute_result"
    }
   ],
   "source": [
    "formula = \"price ~ sqft_living + condition_2 + condition_3 + condition_4 + condition_5\"\n",
    "data_ols = pd.concat([X_train, y_train], axis = 1)\n",
    "\n",
    "model_two = ols(formula= formula, data= data_ols).fit()\n",
    "model_two.summary()"
   ]
  },
  {
   "cell_type": "code",
   "execution_count": 10,
   "metadata": {},
   "outputs": [
    {
     "data": {
      "text/plain": [
       "264173.2388625841"
      ]
     },
     "execution_count": 10,
     "metadata": {},
     "output_type": "execute_result"
    }
   ],
   "source": [
    "y_pred = model_two.predict(X_train)\n",
    "model_two_rmse = np.sqrt(mean_squared_error(y_train, y_pred))\n",
    "model_two_rmse"
   ]
  },
  {
   "cell_type": "code",
   "execution_count": 11,
   "metadata": {},
   "outputs": [
    {
     "data": {
      "text/html": [
       "<table class=\"simpletable\">\n",
       "<caption>OLS Regression Results</caption>\n",
       "<tr>\n",
       "  <th>Dep. Variable:</th>          <td>price</td>      <th>  R-squared:         </th>  <td>   0.636</td>  \n",
       "</tr>\n",
       "<tr>\n",
       "  <th>Model:</th>                   <td>OLS</td>       <th>  Adj. R-squared:    </th>  <td>   0.636</td>  \n",
       "</tr>\n",
       "<tr>\n",
       "  <th>Method:</th>             <td>Least Squares</td>  <th>  F-statistic:       </th>  <td>   6029.</td>  \n",
       "</tr>\n",
       "<tr>\n",
       "  <th>Date:</th>             <td>Tue, 20 Oct 2020</td> <th>  Prob (F-statistic):</th>   <td>  0.00</td>   \n",
       "</tr>\n",
       "<tr>\n",
       "  <th>Time:</th>                 <td>11:19:18</td>     <th>  Log-Likelihood:    </th> <td>-2.3740e+05</td>\n",
       "</tr>\n",
       "<tr>\n",
       "  <th>No. Observations:</th>      <td> 17277</td>      <th>  AIC:               </th>  <td>4.748e+05</td> \n",
       "</tr>\n",
       "<tr>\n",
       "  <th>Df Residuals:</th>          <td> 17271</td>      <th>  BIC:               </th>  <td>4.749e+05</td> \n",
       "</tr>\n",
       "<tr>\n",
       "  <th>Df Model:</th>              <td>     5</td>      <th>                     </th>      <td> </td>     \n",
       "</tr>\n",
       "<tr>\n",
       "  <th>Covariance Type:</th>      <td>nonrobust</td>    <th>                     </th>      <td> </td>     \n",
       "</tr>\n",
       "</table>\n",
       "<table class=\"simpletable\">\n",
       "<tr>\n",
       "       <td></td>          <th>coef</th>     <th>std err</th>      <th>t</th>      <th>P>|t|</th>  <th>[0.025</th>    <th>0.975]</th>  \n",
       "</tr>\n",
       "<tr>\n",
       "  <th>Intercept</th>   <td>-9.764e+05</td> <td> 1.79e+04</td> <td>  -54.461</td> <td> 0.000</td> <td>-1.01e+06</td> <td>-9.41e+05</td>\n",
       "</tr>\n",
       "<tr>\n",
       "  <th>sqft_living</th> <td>  199.9340</td> <td>    3.476</td> <td>   57.525</td> <td> 0.000</td> <td>  193.121</td> <td>  206.747</td>\n",
       "</tr>\n",
       "<tr>\n",
       "  <th>grade</th>       <td> 1.334e+05</td> <td> 2467.811</td> <td>   54.063</td> <td> 0.000</td> <td> 1.29e+05</td> <td> 1.38e+05</td>\n",
       "</tr>\n",
       "<tr>\n",
       "  <th>waterfront</th>  <td> 8.105e+05</td> <td> 2.16e+04</td> <td>   37.590</td> <td> 0.000</td> <td> 7.68e+05</td> <td> 8.53e+05</td>\n",
       "</tr>\n",
       "<tr>\n",
       "  <th>years_old</th>   <td> 3591.0536</td> <td>   65.162</td> <td>   55.109</td> <td> 0.000</td> <td> 3463.329</td> <td> 3718.778</td>\n",
       "</tr>\n",
       "<tr>\n",
       "  <th>ratio_15</th>    <td>-9.693e+04</td> <td> 6687.463</td> <td>  -14.495</td> <td> 0.000</td> <td> -1.1e+05</td> <td>-8.38e+04</td>\n",
       "</tr>\n",
       "</table>\n",
       "<table class=\"simpletable\">\n",
       "<tr>\n",
       "  <th>Omnibus:</th>       <td>13352.225</td> <th>  Durbin-Watson:     </th>  <td>   1.961</td>  \n",
       "</tr>\n",
       "<tr>\n",
       "  <th>Prob(Omnibus):</th>  <td> 0.000</td>   <th>  Jarque-Bera (JB):  </th> <td>1010499.346</td>\n",
       "</tr>\n",
       "<tr>\n",
       "  <th>Skew:</th>           <td> 3.129</td>   <th>  Prob(JB):          </th>  <td>    0.00</td>  \n",
       "</tr>\n",
       "<tr>\n",
       "  <th>Kurtosis:</th>       <td>39.940</td>   <th>  Cond. No.          </th>  <td>2.89e+04</td>  \n",
       "</tr>\n",
       "</table><br/><br/>Warnings:<br/>[1] Standard Errors assume that the covariance matrix of the errors is correctly specified.<br/>[2] The condition number is large, 2.89e+04. This might indicate that there are<br/>strong multicollinearity or other numerical problems."
      ],
      "text/plain": [
       "<class 'statsmodels.iolib.summary.Summary'>\n",
       "\"\"\"\n",
       "                            OLS Regression Results                            \n",
       "==============================================================================\n",
       "Dep. Variable:                  price   R-squared:                       0.636\n",
       "Model:                            OLS   Adj. R-squared:                  0.636\n",
       "Method:                 Least Squares   F-statistic:                     6029.\n",
       "Date:                Tue, 20 Oct 2020   Prob (F-statistic):               0.00\n",
       "Time:                        11:19:18   Log-Likelihood:            -2.3740e+05\n",
       "No. Observations:               17277   AIC:                         4.748e+05\n",
       "Df Residuals:                   17271   BIC:                         4.749e+05\n",
       "Df Model:                           5                                         \n",
       "Covariance Type:            nonrobust                                         \n",
       "===============================================================================\n",
       "                  coef    std err          t      P>|t|      [0.025      0.975]\n",
       "-------------------------------------------------------------------------------\n",
       "Intercept   -9.764e+05   1.79e+04    -54.461      0.000   -1.01e+06   -9.41e+05\n",
       "sqft_living   199.9340      3.476     57.525      0.000     193.121     206.747\n",
       "grade        1.334e+05   2467.811     54.063      0.000    1.29e+05    1.38e+05\n",
       "waterfront   8.105e+05   2.16e+04     37.590      0.000    7.68e+05    8.53e+05\n",
       "years_old    3591.0536     65.162     55.109      0.000    3463.329    3718.778\n",
       "ratio_15    -9.693e+04   6687.463    -14.495      0.000    -1.1e+05   -8.38e+04\n",
       "==============================================================================\n",
       "Omnibus:                    13352.225   Durbin-Watson:                   1.961\n",
       "Prob(Omnibus):                  0.000   Jarque-Bera (JB):          1010499.346\n",
       "Skew:                           3.129   Prob(JB):                         0.00\n",
       "Kurtosis:                      39.940   Cond. No.                     2.89e+04\n",
       "==============================================================================\n",
       "\n",
       "Warnings:\n",
       "[1] Standard Errors assume that the covariance matrix of the errors is correctly specified.\n",
       "[2] The condition number is large, 2.89e+04. This might indicate that there are\n",
       "strong multicollinearity or other numerical problems.\n",
       "\"\"\""
      ]
     },
     "execution_count": 11,
     "metadata": {},
     "output_type": "execute_result"
    }
   ],
   "source": [
    "formula = \"price ~ sqft_living + grade + waterfront + years_old + ratio_15\"\n",
    "data_ols = pd.concat([X_train, y_train], axis = 1)\n",
    "\n",
    "model_five = ols(formula= formula, data= data_ols).fit()\n",
    "model_five.summary()"
   ]
  },
  {
   "cell_type": "code",
   "execution_count": 18,
   "metadata": {},
   "outputs": [
    {
     "data": {
      "text/plain": [
       "224526.43788567488"
      ]
     },
     "execution_count": 18,
     "metadata": {},
     "output_type": "execute_result"
    }
   ],
   "source": [
    "y_pred = model_five.predict(X_train)\n",
    "model_five_rmse = np.sqrt(mean_squared_error(y_train, y_pred))\n",
    "model_five_rmse"
   ]
  },
  {
   "cell_type": "code",
   "execution_count": 13,
   "metadata": {},
   "outputs": [
    {
     "data": {
      "text/html": [
       "<table class=\"simpletable\">\n",
       "<caption>OLS Regression Results</caption>\n",
       "<tr>\n",
       "  <th>Dep. Variable:</th>          <td>price</td>      <th>  R-squared:         </th>  <td>   0.594</td>  \n",
       "</tr>\n",
       "<tr>\n",
       "  <th>Model:</th>                   <td>OLS</td>       <th>  Adj. R-squared:    </th>  <td>   0.594</td>  \n",
       "</tr>\n",
       "<tr>\n",
       "  <th>Method:</th>             <td>Least Squares</td>  <th>  F-statistic:       </th>  <td>   5060.</td>  \n",
       "</tr>\n",
       "<tr>\n",
       "  <th>Date:</th>             <td>Tue, 20 Oct 2020</td> <th>  Prob (F-statistic):</th>   <td>  0.00</td>   \n",
       "</tr>\n",
       "<tr>\n",
       "  <th>Time:</th>                 <td>11:20:04</td>     <th>  Log-Likelihood:    </th> <td>-2.3833e+05</td>\n",
       "</tr>\n",
       "<tr>\n",
       "  <th>No. Observations:</th>      <td> 17277</td>      <th>  AIC:               </th>  <td>4.767e+05</td> \n",
       "</tr>\n",
       "<tr>\n",
       "  <th>Df Residuals:</th>          <td> 17271</td>      <th>  BIC:               </th>  <td>4.767e+05</td> \n",
       "</tr>\n",
       "<tr>\n",
       "  <th>Df Model:</th>              <td>     5</td>      <th>                     </th>      <td> </td>     \n",
       "</tr>\n",
       "<tr>\n",
       "  <th>Covariance Type:</th>      <td>nonrobust</td>    <th>                     </th>      <td> </td>     \n",
       "</tr>\n",
       "</table>\n",
       "<table class=\"simpletable\">\n",
       "<tr>\n",
       "       <td></td>         <th>coef</th>     <th>std err</th>      <th>t</th>      <th>P>|t|</th>  <th>[0.025</th>    <th>0.975]</th>  \n",
       "</tr>\n",
       "<tr>\n",
       "  <th>Intercept</th>  <td>-1.512e+06</td> <td> 1.54e+04</td> <td>  -97.937</td> <td> 0.000</td> <td>-1.54e+06</td> <td>-1.48e+06</td>\n",
       "</tr>\n",
       "<tr>\n",
       "  <th>bathrooms</th>  <td> 1.252e+05</td> <td> 3603.198</td> <td>   34.747</td> <td> 0.000</td> <td> 1.18e+05</td> <td> 1.32e+05</td>\n",
       "</tr>\n",
       "<tr>\n",
       "  <th>grade</th>      <td> 1.992e+05</td> <td> 2087.093</td> <td>   95.456</td> <td> 0.000</td> <td> 1.95e+05</td> <td> 2.03e+05</td>\n",
       "</tr>\n",
       "<tr>\n",
       "  <th>waterfront</th> <td> 8.617e+05</td> <td> 2.27e+04</td> <td>   37.924</td> <td> 0.000</td> <td> 8.17e+05</td> <td> 9.06e+05</td>\n",
       "</tr>\n",
       "<tr>\n",
       "  <th>years_old</th>  <td> 4550.2752</td> <td>   73.395</td> <td>   61.997</td> <td> 0.000</td> <td> 4406.414</td> <td> 4694.136</td>\n",
       "</tr>\n",
       "<tr>\n",
       "  <th>ratio_15</th>   <td> 3.194e+04</td> <td> 6355.527</td> <td>    5.026</td> <td> 0.000</td> <td> 1.95e+04</td> <td> 4.44e+04</td>\n",
       "</tr>\n",
       "</table>\n",
       "<table class=\"simpletable\">\n",
       "<tr>\n",
       "  <th>Omnibus:</th>       <td>15119.423</td> <th>  Durbin-Watson:     </th>  <td>   1.960</td>  \n",
       "</tr>\n",
       "<tr>\n",
       "  <th>Prob(Omnibus):</th>  <td> 0.000</td>   <th>  Jarque-Bera (JB):  </th> <td>1649749.027</td>\n",
       "</tr>\n",
       "<tr>\n",
       "  <th>Skew:</th>           <td> 3.714</td>   <th>  Prob(JB):          </th>  <td>    0.00</td>  \n",
       "</tr>\n",
       "<tr>\n",
       "  <th>Kurtosis:</th>       <td>50.292</td>   <th>  Cond. No.          </th>  <td>    729.</td>  \n",
       "</tr>\n",
       "</table><br/><br/>Warnings:<br/>[1] Standard Errors assume that the covariance matrix of the errors is correctly specified."
      ],
      "text/plain": [
       "<class 'statsmodels.iolib.summary.Summary'>\n",
       "\"\"\"\n",
       "                            OLS Regression Results                            \n",
       "==============================================================================\n",
       "Dep. Variable:                  price   R-squared:                       0.594\n",
       "Model:                            OLS   Adj. R-squared:                  0.594\n",
       "Method:                 Least Squares   F-statistic:                     5060.\n",
       "Date:                Tue, 20 Oct 2020   Prob (F-statistic):               0.00\n",
       "Time:                        11:20:04   Log-Likelihood:            -2.3833e+05\n",
       "No. Observations:               17277   AIC:                         4.767e+05\n",
       "Df Residuals:                   17271   BIC:                         4.767e+05\n",
       "Df Model:                           5                                         \n",
       "Covariance Type:            nonrobust                                         \n",
       "==============================================================================\n",
       "                 coef    std err          t      P>|t|      [0.025      0.975]\n",
       "------------------------------------------------------------------------------\n",
       "Intercept  -1.512e+06   1.54e+04    -97.937      0.000   -1.54e+06   -1.48e+06\n",
       "bathrooms   1.252e+05   3603.198     34.747      0.000    1.18e+05    1.32e+05\n",
       "grade       1.992e+05   2087.093     95.456      0.000    1.95e+05    2.03e+05\n",
       "waterfront  8.617e+05   2.27e+04     37.924      0.000    8.17e+05    9.06e+05\n",
       "years_old   4550.2752     73.395     61.997      0.000    4406.414    4694.136\n",
       "ratio_15    3.194e+04   6355.527      5.026      0.000    1.95e+04    4.44e+04\n",
       "==============================================================================\n",
       "Omnibus:                    15119.423   Durbin-Watson:                   1.960\n",
       "Prob(Omnibus):                  0.000   Jarque-Bera (JB):          1649749.027\n",
       "Skew:                           3.714   Prob(JB):                         0.00\n",
       "Kurtosis:                      50.292   Cond. No.                         729.\n",
       "==============================================================================\n",
       "\n",
       "Warnings:\n",
       "[1] Standard Errors assume that the covariance matrix of the errors is correctly specified.\n",
       "\"\"\""
      ]
     },
     "execution_count": 13,
     "metadata": {},
     "output_type": "execute_result"
    }
   ],
   "source": [
    "formula = \"price ~ bathrooms + grade + waterfront + years_old + ratio_15\"\n",
    "data_ols = pd.concat([X_train, y_train], axis = 1)\n",
    "\n",
    "model_six = ols(formula= formula, data= data_ols).fit()\n",
    "model_six.summary()"
   ]
  },
  {
   "cell_type": "code",
   "execution_count": 14,
   "metadata": {},
   "outputs": [
    {
     "data": {
      "text/plain": [
       "236951.60963766123"
      ]
     },
     "execution_count": 14,
     "metadata": {},
     "output_type": "execute_result"
    }
   ],
   "source": [
    "y_pred = model_six.predict(X_train)\n",
    "model_six_rmse = np.sqrt(mean_squared_error(y_train, y_pred))\n",
    "model_six_rmse"
   ]
  },
  {
   "cell_type": "code",
   "execution_count": 15,
   "metadata": {},
   "outputs": [
    {
     "data": {
      "text/html": [
       "<table class=\"simpletable\">\n",
       "<caption>OLS Regression Results</caption>\n",
       "<tr>\n",
       "  <th>Dep. Variable:</th>          <td>price</td>      <th>  R-squared:         </th>  <td>   0.575</td>  \n",
       "</tr>\n",
       "<tr>\n",
       "  <th>Model:</th>                   <td>OLS</td>       <th>  Adj. R-squared:    </th>  <td>   0.575</td>  \n",
       "</tr>\n",
       "<tr>\n",
       "  <th>Method:</th>             <td>Least Squares</td>  <th>  F-statistic:       </th>  <td>   4682.</td>  \n",
       "</tr>\n",
       "<tr>\n",
       "  <th>Date:</th>             <td>Tue, 20 Oct 2020</td> <th>  Prob (F-statistic):</th>   <td>  0.00</td>   \n",
       "</tr>\n",
       "<tr>\n",
       "  <th>Time:</th>                 <td>11:20:28</td>     <th>  Log-Likelihood:    </th> <td>-2.3872e+05</td>\n",
       "</tr>\n",
       "<tr>\n",
       "  <th>No. Observations:</th>      <td> 17277</td>      <th>  AIC:               </th>  <td>4.775e+05</td> \n",
       "</tr>\n",
       "<tr>\n",
       "  <th>Df Residuals:</th>          <td> 17271</td>      <th>  BIC:               </th>  <td>4.775e+05</td> \n",
       "</tr>\n",
       "<tr>\n",
       "  <th>Df Model:</th>              <td>     5</td>      <th>                     </th>      <td> </td>     \n",
       "</tr>\n",
       "<tr>\n",
       "  <th>Covariance Type:</th>      <td>nonrobust</td>    <th>                     </th>      <td> </td>     \n",
       "</tr>\n",
       "</table>\n",
       "<table class=\"simpletable\">\n",
       "<tr>\n",
       "       <td></td>          <th>coef</th>     <th>std err</th>      <th>t</th>      <th>P>|t|</th>  <th>[0.025</th>    <th>0.975]</th>  \n",
       "</tr>\n",
       "<tr>\n",
       "  <th>Intercept</th>   <td>-8.558e+04</td> <td> 7620.899</td> <td>  -11.230</td> <td> 0.000</td> <td>-1.01e+05</td> <td>-7.06e+04</td>\n",
       "</tr>\n",
       "<tr>\n",
       "  <th>sqft_living</th> <td>  339.5588</td> <td>    2.605</td> <td>  130.338</td> <td> 0.000</td> <td>  334.452</td> <td>  344.665</td>\n",
       "</tr>\n",
       "<tr>\n",
       "  <th>sqft_lot</th>    <td>   -0.3356</td> <td>    0.045</td> <td>   -7.478</td> <td> 0.000</td> <td>   -0.424</td> <td>   -0.248</td>\n",
       "</tr>\n",
       "<tr>\n",
       "  <th>waterfront</th>  <td> 8.449e+05</td> <td> 2.33e+04</td> <td>   36.315</td> <td> 0.000</td> <td> 7.99e+05</td> <td> 8.91e+05</td>\n",
       "</tr>\n",
       "<tr>\n",
       "  <th>years_old</th>   <td> 2467.2366</td> <td>   66.650</td> <td>   37.018</td> <td> 0.000</td> <td> 2336.597</td> <td> 2597.876</td>\n",
       "</tr>\n",
       "<tr>\n",
       "  <th>ratio_15</th>    <td>-1.918e+05</td> <td> 6973.297</td> <td>  -27.508</td> <td> 0.000</td> <td>-2.05e+05</td> <td>-1.78e+05</td>\n",
       "</tr>\n",
       "</table>\n",
       "<table class=\"simpletable\">\n",
       "<tr>\n",
       "  <th>Omnibus:</th>       <td>10775.171</td> <th>  Durbin-Watson:     </th>  <td>   1.979</td> \n",
       "</tr>\n",
       "<tr>\n",
       "  <th>Prob(Omnibus):</th>  <td> 0.000</td>   <th>  Jarque-Bera (JB):  </th> <td>385419.632</td>\n",
       "</tr>\n",
       "<tr>\n",
       "  <th>Skew:</th>           <td> 2.449</td>   <th>  Prob(JB):          </th>  <td>    0.00</td> \n",
       "</tr>\n",
       "<tr>\n",
       "  <th>Kurtosis:</th>       <td>25.615</td>   <th>  Cond. No.          </th>  <td>5.61e+05</td> \n",
       "</tr>\n",
       "</table><br/><br/>Warnings:<br/>[1] Standard Errors assume that the covariance matrix of the errors is correctly specified.<br/>[2] The condition number is large, 5.61e+05. This might indicate that there are<br/>strong multicollinearity or other numerical problems."
      ],
      "text/plain": [
       "<class 'statsmodels.iolib.summary.Summary'>\n",
       "\"\"\"\n",
       "                            OLS Regression Results                            \n",
       "==============================================================================\n",
       "Dep. Variable:                  price   R-squared:                       0.575\n",
       "Model:                            OLS   Adj. R-squared:                  0.575\n",
       "Method:                 Least Squares   F-statistic:                     4682.\n",
       "Date:                Tue, 20 Oct 2020   Prob (F-statistic):               0.00\n",
       "Time:                        11:20:28   Log-Likelihood:            -2.3872e+05\n",
       "No. Observations:               17277   AIC:                         4.775e+05\n",
       "Df Residuals:                   17271   BIC:                         4.775e+05\n",
       "Df Model:                           5                                         \n",
       "Covariance Type:            nonrobust                                         \n",
       "===============================================================================\n",
       "                  coef    std err          t      P>|t|      [0.025      0.975]\n",
       "-------------------------------------------------------------------------------\n",
       "Intercept   -8.558e+04   7620.899    -11.230      0.000   -1.01e+05   -7.06e+04\n",
       "sqft_living   339.5588      2.605    130.338      0.000     334.452     344.665\n",
       "sqft_lot       -0.3356      0.045     -7.478      0.000      -0.424      -0.248\n",
       "waterfront   8.449e+05   2.33e+04     36.315      0.000    7.99e+05    8.91e+05\n",
       "years_old    2467.2366     66.650     37.018      0.000    2336.597    2597.876\n",
       "ratio_15    -1.918e+05   6973.297    -27.508      0.000   -2.05e+05   -1.78e+05\n",
       "==============================================================================\n",
       "Omnibus:                    10775.171   Durbin-Watson:                   1.979\n",
       "Prob(Omnibus):                  0.000   Jarque-Bera (JB):           385419.632\n",
       "Skew:                           2.449   Prob(JB):                         0.00\n",
       "Kurtosis:                      25.615   Cond. No.                     5.61e+05\n",
       "==============================================================================\n",
       "\n",
       "Warnings:\n",
       "[1] Standard Errors assume that the covariance matrix of the errors is correctly specified.\n",
       "[2] The condition number is large, 5.61e+05. This might indicate that there are\n",
       "strong multicollinearity or other numerical problems.\n",
       "\"\"\""
      ]
     },
     "execution_count": 15,
     "metadata": {},
     "output_type": "execute_result"
    }
   ],
   "source": [
    "formula = \"price ~ sqft_living + sqft_lot + waterfront + years_old + ratio_15\"\n",
    "data_ols = pd.concat([X_train, y_train], axis = 1)\n",
    "\n",
    "model_seven = ols(formula= formula, data= data_ols).fit()\n",
    "model_seven.summary()"
   ]
  },
  {
   "cell_type": "code",
   "execution_count": 16,
   "metadata": {},
   "outputs": [],
   "source": [
    "y_predict = model_seven.predict(X_train)"
   ]
  },
  {
   "cell_type": "code",
   "execution_count": 17,
   "metadata": {},
   "outputs": [
    {
     "data": {
      "text/plain": [
       "242390.8985032657"
      ]
     },
     "execution_count": 17,
     "metadata": {},
     "output_type": "execute_result"
    }
   ],
   "source": [
    "model7_rmse = np.sqrt(mean_squared_error(y_train, y_predict))\n",
    "model7_rmse"
   ]
  },
  {
   "cell_type": "code",
   "execution_count": null,
   "metadata": {},
   "outputs": [],
   "source": []
  },
  {
   "cell_type": "code",
   "execution_count": 34,
   "metadata": {},
   "outputs": [
    {
     "ename": "TypeError",
     "evalue": "estimator should be an estimator implementing 'fit' method, <statsmodels.regression.linear_model.RegressionResultsWrapper object at 0x7fc428b2beb8> was passed",
     "output_type": "error",
     "traceback": [
      "\u001b[0;31m---------------------------------------------------------------------------\u001b[0m",
      "\u001b[0;31mTypeError\u001b[0m                                 Traceback (most recent call last)",
      "\u001b[0;32m<ipython-input-34-286b08f42893>\u001b[0m in \u001b[0;36m<module>\u001b[0;34m()\u001b[0m\n\u001b[1;32m     11\u001b[0m \u001b[0;34m\u001b[0m\u001b[0m\n\u001b[1;32m     12\u001b[0m \u001b[0;32mfrom\u001b[0m \u001b[0msklearn\u001b[0m\u001b[0;34m.\u001b[0m\u001b[0mmodel_selection\u001b[0m \u001b[0;32mimport\u001b[0m \u001b[0mcross_val_score\u001b[0m\u001b[0;34m\u001b[0m\u001b[0;34m\u001b[0m\u001b[0m\n\u001b[0;32m---> 13\u001b[0;31m \u001b[0mcross_val_score\u001b[0m\u001b[0;34m(\u001b[0m\u001b[0mestimator\u001b[0m\u001b[0;34m=\u001b[0m\u001b[0mmodel_seven\u001b[0m\u001b[0;34m,\u001b[0m \u001b[0mX\u001b[0m\u001b[0;34m=\u001b[0m\u001b[0mX_train\u001b[0m\u001b[0;34m,\u001b[0m \u001b[0my\u001b[0m\u001b[0;34m=\u001b[0m\u001b[0my_train\u001b[0m\u001b[0;34m,\u001b[0m \u001b[0mcv\u001b[0m \u001b[0;34m=\u001b[0m \u001b[0;36m5\u001b[0m\u001b[0;34m)\u001b[0m\u001b[0;34m\u001b[0m\u001b[0;34m\u001b[0m\u001b[0m\n\u001b[0m",
      "\u001b[0;32m/Users/malcolmkatzenbach/anaconda3/envs/learn-env/lib/python3.6/site-packages/sklearn/model_selection/_validation.py\u001b[0m in \u001b[0;36mcross_val_score\u001b[0;34m(estimator, X, y, groups, scoring, cv, n_jobs, verbose, fit_params, pre_dispatch, error_score)\u001b[0m\n\u001b[1;32m    382\u001b[0m     \"\"\"\n\u001b[1;32m    383\u001b[0m     \u001b[0;31m# To ensure multimetric format is not supported\u001b[0m\u001b[0;34m\u001b[0m\u001b[0;34m\u001b[0m\u001b[0;34m\u001b[0m\u001b[0m\n\u001b[0;32m--> 384\u001b[0;31m     \u001b[0mscorer\u001b[0m \u001b[0;34m=\u001b[0m \u001b[0mcheck_scoring\u001b[0m\u001b[0;34m(\u001b[0m\u001b[0mestimator\u001b[0m\u001b[0;34m,\u001b[0m \u001b[0mscoring\u001b[0m\u001b[0;34m=\u001b[0m\u001b[0mscoring\u001b[0m\u001b[0;34m)\u001b[0m\u001b[0;34m\u001b[0m\u001b[0;34m\u001b[0m\u001b[0m\n\u001b[0m\u001b[1;32m    385\u001b[0m \u001b[0;34m\u001b[0m\u001b[0m\n\u001b[1;32m    386\u001b[0m     cv_results = cross_validate(estimator=estimator, X=X, y=y, groups=groups,\n",
      "\u001b[0;32m/Users/malcolmkatzenbach/anaconda3/envs/learn-env/lib/python3.6/site-packages/sklearn/metrics/scorer.py\u001b[0m in \u001b[0;36mcheck_scoring\u001b[0;34m(estimator, scoring, allow_none)\u001b[0m\n\u001b[1;32m    268\u001b[0m     \u001b[0;32mif\u001b[0m \u001b[0;32mnot\u001b[0m \u001b[0mhasattr\u001b[0m\u001b[0;34m(\u001b[0m\u001b[0mestimator\u001b[0m\u001b[0;34m,\u001b[0m \u001b[0;34m'fit'\u001b[0m\u001b[0;34m)\u001b[0m\u001b[0;34m:\u001b[0m\u001b[0;34m\u001b[0m\u001b[0;34m\u001b[0m\u001b[0m\n\u001b[1;32m    269\u001b[0m         raise TypeError(\"estimator should be an estimator implementing \"\n\u001b[0;32m--> 270\u001b[0;31m                         \"'fit' method, %r was passed\" % estimator)\n\u001b[0m\u001b[1;32m    271\u001b[0m     \u001b[0;32mif\u001b[0m \u001b[0misinstance\u001b[0m\u001b[0;34m(\u001b[0m\u001b[0mscoring\u001b[0m\u001b[0;34m,\u001b[0m \u001b[0mstr\u001b[0m\u001b[0;34m)\u001b[0m\u001b[0;34m:\u001b[0m\u001b[0;34m\u001b[0m\u001b[0;34m\u001b[0m\u001b[0m\n\u001b[1;32m    272\u001b[0m         \u001b[0;32mreturn\u001b[0m \u001b[0mget_scorer\u001b[0m\u001b[0;34m(\u001b[0m\u001b[0mscoring\u001b[0m\u001b[0;34m)\u001b[0m\u001b[0;34m\u001b[0m\u001b[0;34m\u001b[0m\u001b[0m\n",
      "\u001b[0;31mTypeError\u001b[0m: estimator should be an estimator implementing 'fit' method, <statsmodels.regression.linear_model.RegressionResultsWrapper object at 0x7fc428b2beb8> was passed"
     ]
    }
   ],
   "source": [
    "#from sklearn.linear_model import LinearRegression\n",
    "\n",
    "#lr = LinearRegression()\n",
    "#lr.fit(X = X_train, y = y_train)\n",
    "\n",
    "#y_pred = lr.predict(X_train)\n",
    "#lr.score(X_train, y_train)\n",
    "\n",
    "#model_rmse = np.sqrt(mean_squared_error(y_train, y_pred))\n",
    "#model_rmse\n",
    "\n",
    "from sklearn.model_selection import cross_val_score\n",
    "cross_val_score(estimator=model_seven, X=X_train, y=y_train, cv = 5)"
   ]
  },
  {
   "cell_type": "code",
   "execution_count": null,
   "metadata": {},
   "outputs": [],
   "source": []
  }
 ],
 "metadata": {
  "kernelspec": {
   "display_name": "learn-env",
   "language": "python",
   "name": "learn-env"
  },
  "language_info": {
   "codemirror_mode": {
    "name": "ipython",
    "version": 3
   },
   "file_extension": ".py",
   "mimetype": "text/x-python",
   "name": "python",
   "nbconvert_exporter": "python",
   "pygments_lexer": "ipython3",
   "version": "3.6.9"
  }
 },
 "nbformat": 4,
 "nbformat_minor": 4
}
